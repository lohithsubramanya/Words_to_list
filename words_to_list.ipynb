{
 "cells": [
  {
   "cell_type": "code",
   "execution_count": 1,
   "metadata": {
    "collapsed": true
   },
   "outputs": [],
   "source": [
    "def wordsToList(strn):\n",
    "    L = strn.split()\n",
    "    cleanL = []\n",
    "    abc = 'abcdefghijklmnopqrstuvwxyz'\n",
    "    ABC = abc.upper()\n",
    "    letters = abc + ABC\n",
    "    for e in L:\n",
    "        word = ''\n",
    "        for c in e:\n",
    "            if c in letters:\n",
    "                word += c\n",
    "        if word != '':\n",
    "            cleanL.append(word)\n",
    "    return cleanL"
   ]
  },
  {
   "cell_type": "code",
   "execution_count": 2,
   "metadata": {
    "collapsed": true
   },
   "outputs": [],
   "source": [
    "s = \"Jet-engine maker United Technologies has agreed to buy aircraft parts manufacturer Rockwell Collins for $30 billion. The amount represents a total transaction value of $30 billion, including Rockwell Collins' debt, and a total equity value of $23 billion. United Technologies said it will combine its aerospace business with Rockwell Collins to create a new unit called Collins Aerospace Systems.\"\n",
    "L = wordsToList(s)"
   ]
  },
  {
   "cell_type": "code",
   "execution_count": 3,
   "metadata": {},
   "outputs": [
    {
     "data": {
      "text/plain": [
       "['Jetengine',\n",
       " 'maker',\n",
       " 'United',\n",
       " 'Technologies',\n",
       " 'has',\n",
       " 'agreed',\n",
       " 'to',\n",
       " 'buy',\n",
       " 'aircraft',\n",
       " 'parts',\n",
       " 'manufacturer',\n",
       " 'Rockwell',\n",
       " 'Collins',\n",
       " 'for',\n",
       " 'billion',\n",
       " 'The',\n",
       " 'amount',\n",
       " 'represents',\n",
       " 'a',\n",
       " 'total',\n",
       " 'transaction',\n",
       " 'value',\n",
       " 'of',\n",
       " 'billion',\n",
       " 'including',\n",
       " 'Rockwell',\n",
       " 'Collins',\n",
       " 'debt',\n",
       " 'and',\n",
       " 'a',\n",
       " 'total',\n",
       " 'equity',\n",
       " 'value',\n",
       " 'of',\n",
       " 'billion',\n",
       " 'United',\n",
       " 'Technologies',\n",
       " 'said',\n",
       " 'it',\n",
       " 'will',\n",
       " 'combine',\n",
       " 'its',\n",
       " 'aerospace',\n",
       " 'business',\n",
       " 'with',\n",
       " 'Rockwell',\n",
       " 'Collins',\n",
       " 'to',\n",
       " 'create',\n",
       " 'a',\n",
       " 'new',\n",
       " 'unit',\n",
       " 'called',\n",
       " 'Collins',\n",
       " 'Aerospace',\n",
       " 'Systems']"
      ]
     },
     "execution_count": 3,
     "metadata": {},
     "output_type": "execute_result"
    }
   ],
   "source": [
    "L"
   ]
  }
 ],
 "metadata": {
  "kernelspec": {
   "display_name": "Python 3",
   "language": "python",
   "name": "python3"
  },
  "language_info": {
   "codemirror_mode": {
    "name": "ipython",
    "version": 3
   },
   "file_extension": ".py",
   "mimetype": "text/x-python",
   "name": "python",
   "nbconvert_exporter": "python",
   "pygments_lexer": "ipython3",
   "version": "3.5.4"
  }
 },
 "nbformat": 4,
 "nbformat_minor": 2
}
